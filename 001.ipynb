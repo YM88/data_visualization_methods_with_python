{
 "nbformat": 4,
 "nbformat_minor": 2,
 "metadata": {
  "language_info": {
   "name": "python",
   "codemirror_mode": {
    "name": "ipython",
    "version": 3
   },
   "version": "3.7.5-final"
  },
  "orig_nbformat": 2,
  "file_extension": ".py",
  "mimetype": "text/x-python",
  "name": "python",
  "npconvert_exporter": "python",
  "pygments_lexer": "ipython3",
  "version": 3,
  "kernelspec": {
   "name": "python37564bitbaseconda22b5a0dcd4764eff96e0f929c46070b0",
   "display_name": "Python 3.7.5 64-bit ('base': conda)"
  }
 },
 "cells": [
  {
   "cell_type": "code",
   "execution_count": 1,
   "metadata": {},
   "outputs": [],
   "source": [
    "import pandas as pd\n",
    "import numpy as np"
   ]
  },
  {
   "cell_type": "code",
   "execution_count": 3,
   "metadata": {},
   "outputs": [
    {
     "name": "stdout",
     "output_type": "stream",
     "text": "beep boop beep! \nData ready!\n"
    }
   ],
   "source": [
    "df = pd.read_excel('data/Canada.xlsx',\n",
    "sheet_name='Canada by Citizenship',\n",
    "skiprows=range(20),skipfooter=2)\n",
    "\n",
    "print('beep boop beep!', '\\nData ready!')"
   ]
  },
  {
   "cell_type": "code",
   "execution_count": 4,
   "metadata": {},
   "outputs": [
    {
     "data": {
      "text/html": "<div>\n<style scoped>\n    .dataframe tbody tr th:only-of-type {\n        vertical-align: middle;\n    }\n\n    .dataframe tbody tr th {\n        vertical-align: top;\n    }\n\n    .dataframe thead th {\n        text-align: right;\n    }\n</style>\n<table border=\"1\" class=\"dataframe\">\n  <thead>\n    <tr style=\"text-align: right;\">\n      <th></th>\n      <th>Type</th>\n      <th>Coverage</th>\n      <th>OdName</th>\n      <th>AREA</th>\n      <th>AreaName</th>\n      <th>REG</th>\n      <th>RegName</th>\n      <th>DEV</th>\n      <th>DevName</th>\n      <th>1980</th>\n      <th>...</th>\n      <th>2004</th>\n      <th>2005</th>\n      <th>2006</th>\n      <th>2007</th>\n      <th>2008</th>\n      <th>2009</th>\n      <th>2010</th>\n      <th>2011</th>\n      <th>2012</th>\n      <th>2013</th>\n    </tr>\n  </thead>\n  <tbody>\n    <tr>\n      <th>0</th>\n      <td>Immigrants</td>\n      <td>Foreigners</td>\n      <td>Afghanistan</td>\n      <td>935</td>\n      <td>Asia</td>\n      <td>5501</td>\n      <td>Southern Asia</td>\n      <td>902</td>\n      <td>Developing regions</td>\n      <td>16</td>\n      <td>...</td>\n      <td>2978</td>\n      <td>3436</td>\n      <td>3009</td>\n      <td>2652</td>\n      <td>2111</td>\n      <td>1746</td>\n      <td>1758</td>\n      <td>2203</td>\n      <td>2635</td>\n      <td>2004</td>\n    </tr>\n    <tr>\n      <th>1</th>\n      <td>Immigrants</td>\n      <td>Foreigners</td>\n      <td>Albania</td>\n      <td>908</td>\n      <td>Europe</td>\n      <td>925</td>\n      <td>Southern Europe</td>\n      <td>901</td>\n      <td>Developed regions</td>\n      <td>1</td>\n      <td>...</td>\n      <td>1450</td>\n      <td>1223</td>\n      <td>856</td>\n      <td>702</td>\n      <td>560</td>\n      <td>716</td>\n      <td>561</td>\n      <td>539</td>\n      <td>620</td>\n      <td>603</td>\n    </tr>\n    <tr>\n      <th>2</th>\n      <td>Immigrants</td>\n      <td>Foreigners</td>\n      <td>Algeria</td>\n      <td>903</td>\n      <td>Africa</td>\n      <td>912</td>\n      <td>Northern Africa</td>\n      <td>902</td>\n      <td>Developing regions</td>\n      <td>80</td>\n      <td>...</td>\n      <td>3616</td>\n      <td>3626</td>\n      <td>4807</td>\n      <td>3623</td>\n      <td>4005</td>\n      <td>5393</td>\n      <td>4752</td>\n      <td>4325</td>\n      <td>3774</td>\n      <td>4331</td>\n    </tr>\n    <tr>\n      <th>3</th>\n      <td>Immigrants</td>\n      <td>Foreigners</td>\n      <td>American Samoa</td>\n      <td>909</td>\n      <td>Oceania</td>\n      <td>957</td>\n      <td>Polynesia</td>\n      <td>902</td>\n      <td>Developing regions</td>\n      <td>0</td>\n      <td>...</td>\n      <td>0</td>\n      <td>0</td>\n      <td>1</td>\n      <td>0</td>\n      <td>0</td>\n      <td>0</td>\n      <td>0</td>\n      <td>0</td>\n      <td>0</td>\n      <td>0</td>\n    </tr>\n    <tr>\n      <th>4</th>\n      <td>Immigrants</td>\n      <td>Foreigners</td>\n      <td>Andorra</td>\n      <td>908</td>\n      <td>Europe</td>\n      <td>925</td>\n      <td>Southern Europe</td>\n      <td>901</td>\n      <td>Developed regions</td>\n      <td>0</td>\n      <td>...</td>\n      <td>0</td>\n      <td>0</td>\n      <td>1</td>\n      <td>1</td>\n      <td>0</td>\n      <td>0</td>\n      <td>0</td>\n      <td>0</td>\n      <td>1</td>\n      <td>1</td>\n    </tr>\n  </tbody>\n</table>\n<p>5 rows × 43 columns</p>\n</div>",
      "text/plain": "         Type    Coverage          OdName  AREA AreaName   REG  \\\n0  Immigrants  Foreigners     Afghanistan   935     Asia  5501   \n1  Immigrants  Foreigners         Albania   908   Europe   925   \n2  Immigrants  Foreigners         Algeria   903   Africa   912   \n3  Immigrants  Foreigners  American Samoa   909  Oceania   957   \n4  Immigrants  Foreigners         Andorra   908   Europe   925   \n\n           RegName  DEV             DevName  1980  ...  2004  2005  2006  \\\n0    Southern Asia  902  Developing regions    16  ...  2978  3436  3009   \n1  Southern Europe  901   Developed regions     1  ...  1450  1223   856   \n2  Northern Africa  902  Developing regions    80  ...  3616  3626  4807   \n3        Polynesia  902  Developing regions     0  ...     0     0     1   \n4  Southern Europe  901   Developed regions     0  ...     0     0     1   \n\n   2007  2008  2009  2010  2011  2012  2013  \n0  2652  2111  1746  1758  2203  2635  2004  \n1   702   560   716   561   539   620   603  \n2  3623  4005  5393  4752  4325  3774  4331  \n3     0     0     0     0     0     0     0  \n4     1     0     0     0     0     1     1  \n\n[5 rows x 43 columns]"
     },
     "execution_count": 4,
     "metadata": {},
     "output_type": "execute_result"
    }
   ],
   "source": [
    "df.head()"
   ]
  },
  {
   "cell_type": "code",
   "execution_count": 5,
   "metadata": {},
   "outputs": [
    {
     "data": {
      "text/html": "<div>\n<style scoped>\n    .dataframe tbody tr th:only-of-type {\n        vertical-align: middle;\n    }\n\n    .dataframe tbody tr th {\n        vertical-align: top;\n    }\n\n    .dataframe thead th {\n        text-align: right;\n    }\n</style>\n<table border=\"1\" class=\"dataframe\">\n  <thead>\n    <tr style=\"text-align: right;\">\n      <th></th>\n      <th>Type</th>\n      <th>Coverage</th>\n      <th>OdName</th>\n      <th>AREA</th>\n      <th>AreaName</th>\n      <th>REG</th>\n      <th>RegName</th>\n      <th>DEV</th>\n      <th>DevName</th>\n      <th>1980</th>\n      <th>...</th>\n      <th>2004</th>\n      <th>2005</th>\n      <th>2006</th>\n      <th>2007</th>\n      <th>2008</th>\n      <th>2009</th>\n      <th>2010</th>\n      <th>2011</th>\n      <th>2012</th>\n      <th>2013</th>\n    </tr>\n  </thead>\n  <tbody>\n    <tr>\n      <th>190</th>\n      <td>Immigrants</td>\n      <td>Foreigners</td>\n      <td>Viet Nam</td>\n      <td>935</td>\n      <td>Asia</td>\n      <td>920</td>\n      <td>South-Eastern Asia</td>\n      <td>902</td>\n      <td>Developing regions</td>\n      <td>1191</td>\n      <td>...</td>\n      <td>1816</td>\n      <td>1852</td>\n      <td>3153</td>\n      <td>2574</td>\n      <td>1784</td>\n      <td>2171</td>\n      <td>1942</td>\n      <td>1723</td>\n      <td>1731</td>\n      <td>2112</td>\n    </tr>\n    <tr>\n      <th>191</th>\n      <td>Immigrants</td>\n      <td>Foreigners</td>\n      <td>Western Sahara</td>\n      <td>903</td>\n      <td>Africa</td>\n      <td>912</td>\n      <td>Northern Africa</td>\n      <td>902</td>\n      <td>Developing regions</td>\n      <td>0</td>\n      <td>...</td>\n      <td>0</td>\n      <td>0</td>\n      <td>1</td>\n      <td>0</td>\n      <td>0</td>\n      <td>0</td>\n      <td>0</td>\n      <td>0</td>\n      <td>0</td>\n      <td>0</td>\n    </tr>\n    <tr>\n      <th>192</th>\n      <td>Immigrants</td>\n      <td>Foreigners</td>\n      <td>Yemen</td>\n      <td>935</td>\n      <td>Asia</td>\n      <td>922</td>\n      <td>Western Asia</td>\n      <td>902</td>\n      <td>Developing regions</td>\n      <td>1</td>\n      <td>...</td>\n      <td>124</td>\n      <td>161</td>\n      <td>140</td>\n      <td>122</td>\n      <td>133</td>\n      <td>128</td>\n      <td>211</td>\n      <td>160</td>\n      <td>174</td>\n      <td>217</td>\n    </tr>\n    <tr>\n      <th>193</th>\n      <td>Immigrants</td>\n      <td>Foreigners</td>\n      <td>Zambia</td>\n      <td>903</td>\n      <td>Africa</td>\n      <td>910</td>\n      <td>Eastern Africa</td>\n      <td>902</td>\n      <td>Developing regions</td>\n      <td>11</td>\n      <td>...</td>\n      <td>56</td>\n      <td>91</td>\n      <td>77</td>\n      <td>71</td>\n      <td>64</td>\n      <td>60</td>\n      <td>102</td>\n      <td>69</td>\n      <td>46</td>\n      <td>59</td>\n    </tr>\n    <tr>\n      <th>194</th>\n      <td>Immigrants</td>\n      <td>Foreigners</td>\n      <td>Zimbabwe</td>\n      <td>903</td>\n      <td>Africa</td>\n      <td>910</td>\n      <td>Eastern Africa</td>\n      <td>902</td>\n      <td>Developing regions</td>\n      <td>72</td>\n      <td>...</td>\n      <td>1450</td>\n      <td>615</td>\n      <td>454</td>\n      <td>663</td>\n      <td>611</td>\n      <td>508</td>\n      <td>494</td>\n      <td>434</td>\n      <td>437</td>\n      <td>407</td>\n    </tr>\n  </tbody>\n</table>\n<p>5 rows × 43 columns</p>\n</div>",
      "text/plain": "           Type    Coverage          OdName  AREA AreaName  REG  \\\n190  Immigrants  Foreigners        Viet Nam   935     Asia  920   \n191  Immigrants  Foreigners  Western Sahara   903   Africa  912   \n192  Immigrants  Foreigners           Yemen   935     Asia  922   \n193  Immigrants  Foreigners          Zambia   903   Africa  910   \n194  Immigrants  Foreigners        Zimbabwe   903   Africa  910   \n\n                RegName  DEV             DevName  1980  ...  2004  2005  2006  \\\n190  South-Eastern Asia  902  Developing regions  1191  ...  1816  1852  3153   \n191     Northern Africa  902  Developing regions     0  ...     0     0     1   \n192        Western Asia  902  Developing regions     1  ...   124   161   140   \n193      Eastern Africa  902  Developing regions    11  ...    56    91    77   \n194      Eastern Africa  902  Developing regions    72  ...  1450   615   454   \n\n     2007  2008  2009  2010  2011  2012  2013  \n190  2574  1784  2171  1942  1723  1731  2112  \n191     0     0     0     0     0     0     0  \n192   122   133   128   211   160   174   217  \n193    71    64    60   102    69    46    59  \n194   663   611   508   494   434   437   407  \n\n[5 rows x 43 columns]"
     },
     "execution_count": 5,
     "metadata": {},
     "output_type": "execute_result"
    }
   ],
   "source": [
    "df.tail()"
   ]
  },
  {
   "cell_type": "code",
   "execution_count": 6,
   "metadata": {},
   "outputs": [
    {
     "name": "stdout",
     "output_type": "stream",
     "text": "<class 'pandas.core.frame.DataFrame'>\nRangeIndex: 195 entries, 0 to 194\nData columns (total 43 columns):\n #   Column    Non-Null Count  Dtype \n---  ------    --------------  ----- \n 0   Type      195 non-null    object\n 1   Coverage  195 non-null    object\n 2   OdName    195 non-null    object\n 3   AREA      195 non-null    int64 \n 4   AreaName  195 non-null    object\n 5   REG       195 non-null    int64 \n 6   RegName   195 non-null    object\n 7   DEV       195 non-null    int64 \n 8   DevName   195 non-null    object\n 9   1980      195 non-null    int64 \n 10  1981      195 non-null    int64 \n 11  1982      195 non-null    int64 \n 12  1983      195 non-null    int64 \n 13  1984      195 non-null    int64 \n 14  1985      195 non-null    int64 \n 15  1986      195 non-null    int64 \n 16  1987      195 non-null    int64 \n 17  1988      195 non-null    int64 \n 18  1989      195 non-null    int64 \n 19  1990      195 non-null    int64 \n 20  1991      195 non-null    int64 \n 21  1992      195 non-null    int64 \n 22  1993      195 non-null    int64 \n 23  1994      195 non-null    int64 \n 24  1995      195 non-null    int64 \n 25  1996      195 non-null    int64 \n 26  1997      195 non-null    int64 \n 27  1998      195 non-null    int64 \n 28  1999      195 non-null    int64 \n 29  2000      195 non-null    int64 \n 30  2001      195 non-null    int64 \n 31  2002      195 non-null    int64 \n 32  2003      195 non-null    int64 \n 33  2004      195 non-null    int64 \n 34  2005      195 non-null    int64 \n 35  2006      195 non-null    int64 \n 36  2007      195 non-null    int64 \n 37  2008      195 non-null    int64 \n 38  2009      195 non-null    int64 \n 39  2010      195 non-null    int64 \n 40  2011      195 non-null    int64 \n 41  2012      195 non-null    int64 \n 42  2013      195 non-null    int64 \ndtypes: int64(37), object(6)\nmemory usage: 65.6+ KB\n"
    }
   ],
   "source": [
    "df.info()"
   ]
  },
  {
   "cell_type": "markdown",
   "execution_count": null,
   "metadata": {},
   "outputs": [],
   "source": [
    "## Dropping & Renaming Columns"
   ]
  },
  {
   "cell_type": "code",
   "execution_count": 14,
   "metadata": {},
   "outputs": [],
   "source": [
    "df.drop(['AREA', 'REG', 'DEV', 'Type', 'Coverage'], axis=1, inplace=True)"
   ]
  },
  {
   "cell_type": "code",
   "execution_count": 15,
   "metadata": {},
   "outputs": [],
   "source": [
    "df.rename(columns={'OdName':'Country', 'AreaName':'Continent', 'RegName':'Region'}, inplace=True)"
   ]
  },
  {
   "cell_type": "code",
   "execution_count": 31,
   "metadata": {},
   "outputs": [
    {
     "data": {
      "text/plain": "array(['Country', 'Continent', 'Region', 'DevName', 1980, 1981, 1982,\n       1983, 1984, 1985, 1986, 1987, 1988, 1989, 1990, 1991, 1992, 1993,\n       1994, 1995, 1996, 1997, 1998, 1999, 2000, 2001, 2002, 2003, 2004,\n       2005, 2006, 2007, 2008, 2009, 2010, 2011, 2012, 2013], dtype=object)"
     },
     "execution_count": 31,
     "metadata": {},
     "output_type": "execute_result"
    }
   ],
   "source": [
    "df.columns.values"
   ]
  },
  {
   "cell_type": "code",
   "execution_count": 32,
   "metadata": {},
   "outputs": [
    {
     "data": {
      "text/html": "<div>\n<style scoped>\n    .dataframe tbody tr th:only-of-type {\n        vertical-align: middle;\n    }\n\n    .dataframe tbody tr th {\n        vertical-align: top;\n    }\n\n    .dataframe thead th {\n        text-align: right;\n    }\n</style>\n<table border=\"1\" class=\"dataframe\">\n  <thead>\n    <tr style=\"text-align: right;\">\n      <th></th>\n      <th>Country</th>\n      <th>Continent</th>\n      <th>Region</th>\n      <th>DevName</th>\n      <th>1980</th>\n      <th>1981</th>\n      <th>1982</th>\n      <th>1983</th>\n      <th>1984</th>\n      <th>1985</th>\n      <th>...</th>\n      <th>2004</th>\n      <th>2005</th>\n      <th>2006</th>\n      <th>2007</th>\n      <th>2008</th>\n      <th>2009</th>\n      <th>2010</th>\n      <th>2011</th>\n      <th>2012</th>\n      <th>2013</th>\n    </tr>\n  </thead>\n  <tbody>\n    <tr>\n      <th>0</th>\n      <td>Afghanistan</td>\n      <td>Asia</td>\n      <td>Southern Asia</td>\n      <td>Developing regions</td>\n      <td>16</td>\n      <td>39</td>\n      <td>39</td>\n      <td>47</td>\n      <td>71</td>\n      <td>340</td>\n      <td>...</td>\n      <td>2978</td>\n      <td>3436</td>\n      <td>3009</td>\n      <td>2652</td>\n      <td>2111</td>\n      <td>1746</td>\n      <td>1758</td>\n      <td>2203</td>\n      <td>2635</td>\n      <td>2004</td>\n    </tr>\n    <tr>\n      <th>1</th>\n      <td>Albania</td>\n      <td>Europe</td>\n      <td>Southern Europe</td>\n      <td>Developed regions</td>\n      <td>1</td>\n      <td>0</td>\n      <td>0</td>\n      <td>0</td>\n      <td>0</td>\n      <td>0</td>\n      <td>...</td>\n      <td>1450</td>\n      <td>1223</td>\n      <td>856</td>\n      <td>702</td>\n      <td>560</td>\n      <td>716</td>\n      <td>561</td>\n      <td>539</td>\n      <td>620</td>\n      <td>603</td>\n    </tr>\n    <tr>\n      <th>2</th>\n      <td>Algeria</td>\n      <td>Africa</td>\n      <td>Northern Africa</td>\n      <td>Developing regions</td>\n      <td>80</td>\n      <td>67</td>\n      <td>71</td>\n      <td>69</td>\n      <td>63</td>\n      <td>44</td>\n      <td>...</td>\n      <td>3616</td>\n      <td>3626</td>\n      <td>4807</td>\n      <td>3623</td>\n      <td>4005</td>\n      <td>5393</td>\n      <td>4752</td>\n      <td>4325</td>\n      <td>3774</td>\n      <td>4331</td>\n    </tr>\n    <tr>\n      <th>3</th>\n      <td>American Samoa</td>\n      <td>Oceania</td>\n      <td>Polynesia</td>\n      <td>Developing regions</td>\n      <td>0</td>\n      <td>1</td>\n      <td>0</td>\n      <td>0</td>\n      <td>0</td>\n      <td>0</td>\n      <td>...</td>\n      <td>0</td>\n      <td>0</td>\n      <td>1</td>\n      <td>0</td>\n      <td>0</td>\n      <td>0</td>\n      <td>0</td>\n      <td>0</td>\n      <td>0</td>\n      <td>0</td>\n    </tr>\n    <tr>\n      <th>4</th>\n      <td>Andorra</td>\n      <td>Europe</td>\n      <td>Southern Europe</td>\n      <td>Developed regions</td>\n      <td>0</td>\n      <td>0</td>\n      <td>0</td>\n      <td>0</td>\n      <td>0</td>\n      <td>0</td>\n      <td>...</td>\n      <td>0</td>\n      <td>0</td>\n      <td>1</td>\n      <td>1</td>\n      <td>0</td>\n      <td>0</td>\n      <td>0</td>\n      <td>0</td>\n      <td>1</td>\n      <td>1</td>\n    </tr>\n  </tbody>\n</table>\n<p>5 rows × 38 columns</p>\n</div>",
      "text/plain": "          Country Continent           Region             DevName  1980  1981  \\\n0     Afghanistan      Asia    Southern Asia  Developing regions    16    39   \n1         Albania    Europe  Southern Europe   Developed regions     1     0   \n2         Algeria    Africa  Northern Africa  Developing regions    80    67   \n3  American Samoa   Oceania        Polynesia  Developing regions     0     1   \n4         Andorra    Europe  Southern Europe   Developed regions     0     0   \n\n   1982  1983  1984  1985  ...  2004  2005  2006  2007  2008  2009  2010  \\\n0    39    47    71   340  ...  2978  3436  3009  2652  2111  1746  1758   \n1     0     0     0     0  ...  1450  1223   856   702   560   716   561   \n2    71    69    63    44  ...  3616  3626  4807  3623  4005  5393  4752   \n3     0     0     0     0  ...     0     0     1     0     0     0     0   \n4     0     0     0     0  ...     0     0     1     1     0     0     0   \n\n   2011  2012  2013  \n0  2203  2635  2004  \n1   539   620   603  \n2  4325  3774  4331  \n3     0     0     0  \n4     0     1     1  \n\n[5 rows x 38 columns]"
     },
     "execution_count": 32,
     "metadata": {},
     "output_type": "execute_result"
    }
   ],
   "source": [
    "df.head()"
   ]
  },
  {
   "cell_type": "code",
   "execution_count": 46,
   "metadata": {},
   "outputs": [],
   "source": [
    "#creating a 'Total' column for the sum of all values\n",
    "df['Total'] = df.sum(axis=1)"
   ]
  },
  {
   "cell_type": "code",
   "execution_count": 47,
   "metadata": {},
   "outputs": [
    {
     "data": {
      "text/html": "<div>\n<style scoped>\n    .dataframe tbody tr th:only-of-type {\n        vertical-align: middle;\n    }\n\n    .dataframe tbody tr th {\n        vertical-align: top;\n    }\n\n    .dataframe thead th {\n        text-align: right;\n    }\n</style>\n<table border=\"1\" class=\"dataframe\">\n  <thead>\n    <tr style=\"text-align: right;\">\n      <th></th>\n      <th>Country</th>\n      <th>Continent</th>\n      <th>Region</th>\n      <th>DevName</th>\n      <th>1980</th>\n      <th>1981</th>\n      <th>1982</th>\n      <th>1983</th>\n      <th>1984</th>\n      <th>1985</th>\n      <th>...</th>\n      <th>2005</th>\n      <th>2006</th>\n      <th>2007</th>\n      <th>2008</th>\n      <th>2009</th>\n      <th>2010</th>\n      <th>2011</th>\n      <th>2012</th>\n      <th>2013</th>\n      <th>Total</th>\n    </tr>\n  </thead>\n  <tbody>\n    <tr>\n      <th>0</th>\n      <td>Afghanistan</td>\n      <td>Asia</td>\n      <td>Southern Asia</td>\n      <td>Developing regions</td>\n      <td>16</td>\n      <td>39</td>\n      <td>39</td>\n      <td>47</td>\n      <td>71</td>\n      <td>340</td>\n      <td>...</td>\n      <td>3436</td>\n      <td>3009</td>\n      <td>2652</td>\n      <td>2111</td>\n      <td>1746</td>\n      <td>1758</td>\n      <td>2203</td>\n      <td>2635</td>\n      <td>2004</td>\n      <td>58639</td>\n    </tr>\n    <tr>\n      <th>1</th>\n      <td>Albania</td>\n      <td>Europe</td>\n      <td>Southern Europe</td>\n      <td>Developed regions</td>\n      <td>1</td>\n      <td>0</td>\n      <td>0</td>\n      <td>0</td>\n      <td>0</td>\n      <td>0</td>\n      <td>...</td>\n      <td>1223</td>\n      <td>856</td>\n      <td>702</td>\n      <td>560</td>\n      <td>716</td>\n      <td>561</td>\n      <td>539</td>\n      <td>620</td>\n      <td>603</td>\n      <td>15699</td>\n    </tr>\n    <tr>\n      <th>2</th>\n      <td>Algeria</td>\n      <td>Africa</td>\n      <td>Northern Africa</td>\n      <td>Developing regions</td>\n      <td>80</td>\n      <td>67</td>\n      <td>71</td>\n      <td>69</td>\n      <td>63</td>\n      <td>44</td>\n      <td>...</td>\n      <td>3626</td>\n      <td>4807</td>\n      <td>3623</td>\n      <td>4005</td>\n      <td>5393</td>\n      <td>4752</td>\n      <td>4325</td>\n      <td>3774</td>\n      <td>4331</td>\n      <td>69439</td>\n    </tr>\n    <tr>\n      <th>3</th>\n      <td>American Samoa</td>\n      <td>Oceania</td>\n      <td>Polynesia</td>\n      <td>Developing regions</td>\n      <td>0</td>\n      <td>1</td>\n      <td>0</td>\n      <td>0</td>\n      <td>0</td>\n      <td>0</td>\n      <td>...</td>\n      <td>0</td>\n      <td>1</td>\n      <td>0</td>\n      <td>0</td>\n      <td>0</td>\n      <td>0</td>\n      <td>0</td>\n      <td>0</td>\n      <td>0</td>\n      <td>6</td>\n    </tr>\n    <tr>\n      <th>4</th>\n      <td>Andorra</td>\n      <td>Europe</td>\n      <td>Southern Europe</td>\n      <td>Developed regions</td>\n      <td>0</td>\n      <td>0</td>\n      <td>0</td>\n      <td>0</td>\n      <td>0</td>\n      <td>0</td>\n      <td>...</td>\n      <td>0</td>\n      <td>1</td>\n      <td>1</td>\n      <td>0</td>\n      <td>0</td>\n      <td>0</td>\n      <td>0</td>\n      <td>1</td>\n      <td>1</td>\n      <td>15</td>\n    </tr>\n  </tbody>\n</table>\n<p>5 rows × 39 columns</p>\n</div>",
      "text/plain": "          Country Continent           Region             DevName  1980  1981  \\\n0     Afghanistan      Asia    Southern Asia  Developing regions    16    39   \n1         Albania    Europe  Southern Europe   Developed regions     1     0   \n2         Algeria    Africa  Northern Africa  Developing regions    80    67   \n3  American Samoa   Oceania        Polynesia  Developing regions     0     1   \n4         Andorra    Europe  Southern Europe   Developed regions     0     0   \n\n   1982  1983  1984  1985  ...  2005  2006  2007  2008  2009  2010  2011  \\\n0    39    47    71   340  ...  3436  3009  2652  2111  1746  1758  2203   \n1     0     0     0     0  ...  1223   856   702   560   716   561   539   \n2    71    69    63    44  ...  3626  4807  3623  4005  5393  4752  4325   \n3     0     0     0     0  ...     0     1     0     0     0     0     0   \n4     0     0     0     0  ...     0     1     1     0     0     0     0   \n\n   2012  2013  Total  \n0  2635  2004  58639  \n1   620   603  15699  \n2  3774  4331  69439  \n3     0     0      6  \n4     1     1     15  \n\n[5 rows x 39 columns]"
     },
     "execution_count": 47,
     "metadata": {},
     "output_type": "execute_result"
    }
   ],
   "source": [
    "df.head()"
   ]
  },
  {
   "cell_type": "code",
   "execution_count": 49,
   "metadata": {},
   "outputs": [
    {
     "data": {
      "text/plain": "Country      0\nContinent    0\nRegion       0\nDevName      0\n1980         0\n1981         0\n1982         0\n1983         0\n1984         0\n1985         0\n1986         0\n1987         0\n1988         0\n1989         0\n1990         0\n1991         0\n1992         0\n1993         0\n1994         0\n1995         0\n1996         0\n1997         0\n1998         0\n1999         0\n2000         0\n2001         0\n2002         0\n2003         0\n2004         0\n2005         0\n2006         0\n2007         0\n2008         0\n2009         0\n2010         0\n2011         0\n2012         0\n2013         0\nTotal        0\ndtype: int64"
     },
     "execution_count": 49,
     "metadata": {},
     "output_type": "execute_result"
    }
   ],
   "source": [
    "df.isnull().sum()"
   ]
  },
  {
   "cell_type": "code",
   "execution_count": 53,
   "metadata": {},
   "outputs": [
    {
     "data": {
      "text/html": "<div>\n<style scoped>\n    .dataframe tbody tr th:only-of-type {\n        vertical-align: middle;\n    }\n\n    .dataframe tbody tr th {\n        vertical-align: top;\n    }\n\n    .dataframe thead th {\n        text-align: right;\n    }\n</style>\n<table border=\"1\" class=\"dataframe\">\n  <thead>\n    <tr style=\"text-align: right;\">\n      <th></th>\n      <th>count</th>\n      <th>mean</th>\n      <th>std</th>\n      <th>min</th>\n      <th>25%</th>\n      <th>50%</th>\n      <th>75%</th>\n      <th>max</th>\n    </tr>\n  </thead>\n  <tbody>\n    <tr>\n      <th>1980</th>\n      <td>195.0</td>\n      <td>508.394872</td>\n      <td>1949.588546</td>\n      <td>0.0</td>\n      <td>0.0</td>\n      <td>13.0</td>\n      <td>251.5</td>\n      <td>22045.0</td>\n    </tr>\n    <tr>\n      <th>1981</th>\n      <td>195.0</td>\n      <td>566.989744</td>\n      <td>2152.643752</td>\n      <td>0.0</td>\n      <td>0.0</td>\n      <td>10.0</td>\n      <td>295.5</td>\n      <td>24796.0</td>\n    </tr>\n    <tr>\n      <th>1982</th>\n      <td>195.0</td>\n      <td>534.723077</td>\n      <td>1866.997511</td>\n      <td>0.0</td>\n      <td>0.0</td>\n      <td>11.0</td>\n      <td>275.0</td>\n      <td>20620.0</td>\n    </tr>\n    <tr>\n      <th>1983</th>\n      <td>195.0</td>\n      <td>387.435897</td>\n      <td>1204.333597</td>\n      <td>0.0</td>\n      <td>0.0</td>\n      <td>12.0</td>\n      <td>173.0</td>\n      <td>10015.0</td>\n    </tr>\n    <tr>\n      <th>1984</th>\n      <td>195.0</td>\n      <td>376.497436</td>\n      <td>1198.246371</td>\n      <td>0.0</td>\n      <td>0.0</td>\n      <td>13.0</td>\n      <td>181.0</td>\n      <td>10170.0</td>\n    </tr>\n    <tr>\n      <th>1985</th>\n      <td>195.0</td>\n      <td>358.861538</td>\n      <td>1079.309600</td>\n      <td>0.0</td>\n      <td>0.0</td>\n      <td>17.0</td>\n      <td>197.0</td>\n      <td>9564.0</td>\n    </tr>\n    <tr>\n      <th>1986</th>\n      <td>195.0</td>\n      <td>441.271795</td>\n      <td>1225.576630</td>\n      <td>0.0</td>\n      <td>0.5</td>\n      <td>18.0</td>\n      <td>254.0</td>\n      <td>9470.0</td>\n    </tr>\n    <tr>\n      <th>1987</th>\n      <td>195.0</td>\n      <td>691.133333</td>\n      <td>2109.205607</td>\n      <td>0.0</td>\n      <td>0.5</td>\n      <td>26.0</td>\n      <td>434.0</td>\n      <td>21337.0</td>\n    </tr>\n    <tr>\n      <th>1988</th>\n      <td>195.0</td>\n      <td>714.389744</td>\n      <td>2443.606788</td>\n      <td>0.0</td>\n      <td>1.0</td>\n      <td>34.0</td>\n      <td>409.0</td>\n      <td>27359.0</td>\n    </tr>\n    <tr>\n      <th>1989</th>\n      <td>195.0</td>\n      <td>843.241026</td>\n      <td>2555.048874</td>\n      <td>0.0</td>\n      <td>1.0</td>\n      <td>44.0</td>\n      <td>508.5</td>\n      <td>23795.0</td>\n    </tr>\n    <tr>\n      <th>1990</th>\n      <td>195.0</td>\n      <td>964.379487</td>\n      <td>3158.730195</td>\n      <td>0.0</td>\n      <td>2.0</td>\n      <td>38.0</td>\n      <td>612.5</td>\n      <td>31668.0</td>\n    </tr>\n    <tr>\n      <th>1991</th>\n      <td>195.0</td>\n      <td>1064.148718</td>\n      <td>2952.093731</td>\n      <td>0.0</td>\n      <td>3.0</td>\n      <td>51.0</td>\n      <td>657.5</td>\n      <td>23380.0</td>\n    </tr>\n    <tr>\n      <th>1992</th>\n      <td>195.0</td>\n      <td>1136.856410</td>\n      <td>3330.083742</td>\n      <td>0.0</td>\n      <td>6.5</td>\n      <td>74.0</td>\n      <td>655.0</td>\n      <td>34123.0</td>\n    </tr>\n    <tr>\n      <th>1993</th>\n      <td>195.0</td>\n      <td>1138.712821</td>\n      <td>3495.220063</td>\n      <td>0.0</td>\n      <td>11.5</td>\n      <td>85.0</td>\n      <td>722.5</td>\n      <td>33720.0</td>\n    </tr>\n    <tr>\n      <th>1994</th>\n      <td>195.0</td>\n      <td>993.153846</td>\n      <td>3613.336444</td>\n      <td>0.0</td>\n      <td>9.5</td>\n      <td>76.0</td>\n      <td>545.0</td>\n      <td>39231.0</td>\n    </tr>\n    <tr>\n      <th>1995</th>\n      <td>195.0</td>\n      <td>962.625641</td>\n      <td>3091.492343</td>\n      <td>0.0</td>\n      <td>10.5</td>\n      <td>91.0</td>\n      <td>550.5</td>\n      <td>30145.0</td>\n    </tr>\n    <tr>\n      <th>1996</th>\n      <td>195.0</td>\n      <td>1026.076923</td>\n      <td>3321.045004</td>\n      <td>0.0</td>\n      <td>14.5</td>\n      <td>118.0</td>\n      <td>603.5</td>\n      <td>29322.0</td>\n    </tr>\n    <tr>\n      <th>1997</th>\n      <td>195.0</td>\n      <td>989.153846</td>\n      <td>3070.761447</td>\n      <td>0.0</td>\n      <td>19.5</td>\n      <td>114.0</td>\n      <td>612.5</td>\n      <td>22965.0</td>\n    </tr>\n    <tr>\n      <th>1998</th>\n      <td>195.0</td>\n      <td>824.241026</td>\n      <td>2385.943695</td>\n      <td>0.0</td>\n      <td>15.0</td>\n      <td>106.0</td>\n      <td>535.5</td>\n      <td>21049.0</td>\n    </tr>\n    <tr>\n      <th>1999</th>\n      <td>195.0</td>\n      <td>922.143590</td>\n      <td>2887.632585</td>\n      <td>0.0</td>\n      <td>16.0</td>\n      <td>116.0</td>\n      <td>548.5</td>\n      <td>30069.0</td>\n    </tr>\n    <tr>\n      <th>2000</th>\n      <td>195.0</td>\n      <td>1111.343590</td>\n      <td>3664.042361</td>\n      <td>0.0</td>\n      <td>16.0</td>\n      <td>138.0</td>\n      <td>659.0</td>\n      <td>35529.0</td>\n    </tr>\n    <tr>\n      <th>2001</th>\n      <td>195.0</td>\n      <td>1244.323077</td>\n      <td>3961.621410</td>\n      <td>0.0</td>\n      <td>22.0</td>\n      <td>169.0</td>\n      <td>793.5</td>\n      <td>36434.0</td>\n    </tr>\n    <tr>\n      <th>2002</th>\n      <td>195.0</td>\n      <td>1144.158974</td>\n      <td>3660.579836</td>\n      <td>0.0</td>\n      <td>18.5</td>\n      <td>165.0</td>\n      <td>686.0</td>\n      <td>31961.0</td>\n    </tr>\n    <tr>\n      <th>2003</th>\n      <td>195.0</td>\n      <td>1114.343590</td>\n      <td>3623.509519</td>\n      <td>0.0</td>\n      <td>21.5</td>\n      <td>161.0</td>\n      <td>673.5</td>\n      <td>36439.0</td>\n    </tr>\n    <tr>\n      <th>2004</th>\n      <td>195.0</td>\n      <td>1190.169231</td>\n      <td>3710.505369</td>\n      <td>0.0</td>\n      <td>19.0</td>\n      <td>191.0</td>\n      <td>756.5</td>\n      <td>36619.0</td>\n    </tr>\n    <tr>\n      <th>2005</th>\n      <td>195.0</td>\n      <td>1320.292308</td>\n      <td>4425.957828</td>\n      <td>0.0</td>\n      <td>28.5</td>\n      <td>210.0</td>\n      <td>832.0</td>\n      <td>42584.0</td>\n    </tr>\n    <tr>\n      <th>2006</th>\n      <td>195.0</td>\n      <td>1266.958974</td>\n      <td>3926.717747</td>\n      <td>0.0</td>\n      <td>25.0</td>\n      <td>218.0</td>\n      <td>842.0</td>\n      <td>33848.0</td>\n    </tr>\n    <tr>\n      <th>2007</th>\n      <td>195.0</td>\n      <td>1191.820513</td>\n      <td>3443.542409</td>\n      <td>0.0</td>\n      <td>31.0</td>\n      <td>198.0</td>\n      <td>899.0</td>\n      <td>28742.0</td>\n    </tr>\n    <tr>\n      <th>2008</th>\n      <td>195.0</td>\n      <td>1246.394872</td>\n      <td>3694.573544</td>\n      <td>0.0</td>\n      <td>31.0</td>\n      <td>205.0</td>\n      <td>934.5</td>\n      <td>30037.0</td>\n    </tr>\n    <tr>\n      <th>2009</th>\n      <td>195.0</td>\n      <td>1275.733333</td>\n      <td>3829.630424</td>\n      <td>0.0</td>\n      <td>36.0</td>\n      <td>214.0</td>\n      <td>888.0</td>\n      <td>29622.0</td>\n    </tr>\n    <tr>\n      <th>2010</th>\n      <td>195.0</td>\n      <td>1420.287179</td>\n      <td>4462.946328</td>\n      <td>0.0</td>\n      <td>40.5</td>\n      <td>211.0</td>\n      <td>932.0</td>\n      <td>38617.0</td>\n    </tr>\n    <tr>\n      <th>2011</th>\n      <td>195.0</td>\n      <td>1262.533333</td>\n      <td>4030.084313</td>\n      <td>0.0</td>\n      <td>37.5</td>\n      <td>179.0</td>\n      <td>772.0</td>\n      <td>36765.0</td>\n    </tr>\n    <tr>\n      <th>2012</th>\n      <td>195.0</td>\n      <td>1313.958974</td>\n      <td>4247.555161</td>\n      <td>0.0</td>\n      <td>42.5</td>\n      <td>233.0</td>\n      <td>783.0</td>\n      <td>34315.0</td>\n    </tr>\n    <tr>\n      <th>2013</th>\n      <td>195.0</td>\n      <td>1320.702564</td>\n      <td>4237.951988</td>\n      <td>0.0</td>\n      <td>45.0</td>\n      <td>213.0</td>\n      <td>796.0</td>\n      <td>34129.0</td>\n    </tr>\n    <tr>\n      <th>Total</th>\n      <td>195.0</td>\n      <td>32867.451282</td>\n      <td>91785.498686</td>\n      <td>1.0</td>\n      <td>952.0</td>\n      <td>5018.0</td>\n      <td>22239.5</td>\n      <td>691904.0</td>\n    </tr>\n  </tbody>\n</table>\n</div>",
      "text/plain": "       count          mean           std  min    25%     50%      75%  \\\n1980   195.0    508.394872   1949.588546  0.0    0.0    13.0    251.5   \n1981   195.0    566.989744   2152.643752  0.0    0.0    10.0    295.5   \n1982   195.0    534.723077   1866.997511  0.0    0.0    11.0    275.0   \n1983   195.0    387.435897   1204.333597  0.0    0.0    12.0    173.0   \n1984   195.0    376.497436   1198.246371  0.0    0.0    13.0    181.0   \n1985   195.0    358.861538   1079.309600  0.0    0.0    17.0    197.0   \n1986   195.0    441.271795   1225.576630  0.0    0.5    18.0    254.0   \n1987   195.0    691.133333   2109.205607  0.0    0.5    26.0    434.0   \n1988   195.0    714.389744   2443.606788  0.0    1.0    34.0    409.0   \n1989   195.0    843.241026   2555.048874  0.0    1.0    44.0    508.5   \n1990   195.0    964.379487   3158.730195  0.0    2.0    38.0    612.5   \n1991   195.0   1064.148718   2952.093731  0.0    3.0    51.0    657.5   \n1992   195.0   1136.856410   3330.083742  0.0    6.5    74.0    655.0   \n1993   195.0   1138.712821   3495.220063  0.0   11.5    85.0    722.5   \n1994   195.0    993.153846   3613.336444  0.0    9.5    76.0    545.0   \n1995   195.0    962.625641   3091.492343  0.0   10.5    91.0    550.5   \n1996   195.0   1026.076923   3321.045004  0.0   14.5   118.0    603.5   \n1997   195.0    989.153846   3070.761447  0.0   19.5   114.0    612.5   \n1998   195.0    824.241026   2385.943695  0.0   15.0   106.0    535.5   \n1999   195.0    922.143590   2887.632585  0.0   16.0   116.0    548.5   \n2000   195.0   1111.343590   3664.042361  0.0   16.0   138.0    659.0   \n2001   195.0   1244.323077   3961.621410  0.0   22.0   169.0    793.5   \n2002   195.0   1144.158974   3660.579836  0.0   18.5   165.0    686.0   \n2003   195.0   1114.343590   3623.509519  0.0   21.5   161.0    673.5   \n2004   195.0   1190.169231   3710.505369  0.0   19.0   191.0    756.5   \n2005   195.0   1320.292308   4425.957828  0.0   28.5   210.0    832.0   \n2006   195.0   1266.958974   3926.717747  0.0   25.0   218.0    842.0   \n2007   195.0   1191.820513   3443.542409  0.0   31.0   198.0    899.0   \n2008   195.0   1246.394872   3694.573544  0.0   31.0   205.0    934.5   \n2009   195.0   1275.733333   3829.630424  0.0   36.0   214.0    888.0   \n2010   195.0   1420.287179   4462.946328  0.0   40.5   211.0    932.0   \n2011   195.0   1262.533333   4030.084313  0.0   37.5   179.0    772.0   \n2012   195.0   1313.958974   4247.555161  0.0   42.5   233.0    783.0   \n2013   195.0   1320.702564   4237.951988  0.0   45.0   213.0    796.0   \nTotal  195.0  32867.451282  91785.498686  1.0  952.0  5018.0  22239.5   \n\n            max  \n1980    22045.0  \n1981    24796.0  \n1982    20620.0  \n1983    10015.0  \n1984    10170.0  \n1985     9564.0  \n1986     9470.0  \n1987    21337.0  \n1988    27359.0  \n1989    23795.0  \n1990    31668.0  \n1991    23380.0  \n1992    34123.0  \n1993    33720.0  \n1994    39231.0  \n1995    30145.0  \n1996    29322.0  \n1997    22965.0  \n1998    21049.0  \n1999    30069.0  \n2000    35529.0  \n2001    36434.0  \n2002    31961.0  \n2003    36439.0  \n2004    36619.0  \n2005    42584.0  \n2006    33848.0  \n2007    28742.0  \n2008    30037.0  \n2009    29622.0  \n2010    38617.0  \n2011    36765.0  \n2012    34315.0  \n2013    34129.0  \nTotal  691904.0  "
     },
     "execution_count": 53,
     "metadata": {},
     "output_type": "execute_result"
    }
   ],
   "source": [
    "df.describe().T"
   ]
  },
  {
   "cell_type": "markdown",
   "execution_count": null,
   "metadata": {},
   "outputs": [],
   "source": [
    "## Checking the type of column texts"
   ]
  },
  {
   "cell_type": "code",
   "execution_count": 58,
   "metadata": {},
   "outputs": [
    {
     "data": {
      "text/plain": "[str,\n str,\n str,\n str,\n int,\n int,\n int,\n int,\n int,\n int,\n int,\n int,\n int,\n int,\n int,\n int,\n int,\n int,\n int,\n int,\n int,\n int,\n int,\n int,\n int,\n int,\n int,\n int,\n int,\n int,\n int,\n int,\n int,\n int,\n int,\n int,\n int,\n int,\n str]"
     },
     "execution_count": 58,
     "metadata": {},
     "output_type": "execute_result"
    }
   ],
   "source": [
    "#checking column values types\n",
    "[type(col) for col in df.columns.values]"
   ]
  },
  {
   "cell_type": "code",
   "execution_count": 60,
   "metadata": {},
   "outputs": [],
   "source": [
    "df.columns = df.columns.map(str)"
   ]
  },
  {
   "cell_type": "code",
   "execution_count": 61,
   "metadata": {},
   "outputs": [
    {
     "data": {
      "text/plain": "[str,\n str,\n str,\n str,\n str,\n str,\n str,\n str,\n str,\n str,\n str,\n str,\n str,\n str,\n str,\n str,\n str,\n str,\n str,\n str,\n str,\n str,\n str,\n str,\n str,\n str,\n str,\n str,\n str,\n str,\n str,\n str,\n str,\n str,\n str,\n str,\n str,\n str,\n str]"
     },
     "execution_count": 61,
     "metadata": {},
     "output_type": "execute_result"
    }
   ],
   "source": [
    "[type(col) for col in df.columns]"
   ]
  },
  {
   "cell_type": "code",
   "execution_count": null,
   "metadata": {},
   "outputs": [],
   "source": []
  },
  {
   "cell_type": "code",
   "execution_count": null,
   "metadata": {},
   "outputs": [],
   "source": []
  },
  {
   "cell_type": "code",
   "execution_count": null,
   "metadata": {},
   "outputs": [],
   "source": []
  },
  {
   "cell_type": "code",
   "execution_count": null,
   "metadata": {},
   "outputs": [],
   "source": []
  },
  {
   "cell_type": "code",
   "execution_count": null,
   "metadata": {},
   "outputs": [],
   "source": []
  },
  {
   "cell_type": "code",
   "execution_count": null,
   "metadata": {},
   "outputs": [],
   "source": []
  },
  {
   "cell_type": "code",
   "execution_count": null,
   "metadata": {},
   "outputs": [],
   "source": []
  },
  {
   "cell_type": "code",
   "execution_count": null,
   "metadata": {},
   "outputs": [],
   "source": []
  },
  {
   "cell_type": "code",
   "execution_count": null,
   "metadata": {},
   "outputs": [],
   "source": []
  },
  {
   "cell_type": "code",
   "execution_count": null,
   "metadata": {},
   "outputs": [],
   "source": []
  }
 ]
}